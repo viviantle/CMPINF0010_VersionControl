{
 "cells": [
  {
   "cell_type": "markdown",
   "metadata": {},
   "source": [
    "## Part 1 - This week: The Repository\n",
    "\n",
    "First off, you're going to be continuing this project into next week, so, if you don't finish in time, you're not off the hook. You'll need everything from this week (plus some other things that you might already have written) for next week.\n",
    "\n",
    "**Done**Step 1: Find a partner! This is a group project, so find a friend or two and form groups of NO MORE THAN 3 people. You can't work by yourself!\n",
    "\n",
    "**Done**Step 2: One member of the group will create a repo, and the other members will be \"collaborators\". The owner is responsible for approving the other member's pull requests.\n",
    "\n",
    "**Done** Step 2: As a group, your job is to make a simple program for class! Make a Jupyter notebook that contains a Python program that does Something™. What's Something™? Write a program with the following attributes:\n",
    "\n",
    "**Done** * It takes a name input\n",
    "* It takes some other input\n",
    "* It does Something™ with this other input\n",
    "    \n",
    "Step 3: In a file called `README.md`, write a description of your program and what it does, and list your group's members. \n",
    "\n",
    "Step 4: Make sure everyone in your group has **at least one commit**. That's how we'll be checking your work.\n",
    "\n",
    "**Done**Step 5: Submit the URL to your repository on Canvas! (**Note:** make sure you all join the same \"Version Control\" group on Canvas. This way, only one group member needs to submit the URL) \n",
    "\n"
   ]
  },
  {
   "cell_type": "code",
   "execution_count": null,
   "metadata": {},
   "outputs": [],
   "source": [
    "# Step 1: Take a name input\n",
    "name = input(\"Enter your name: \")\n",
    "\n",
    "# Step 2: Take some other input \n",
    "\n",
    "# Step 3: Do something with this input\n",
    "\n",
    "# Output message\n",
    "print(f\"Hello, {name}!\")\n"
   ]
  }
 ],
 "metadata": {
  "kernelspec": {
   "display_name": "Python 3",
   "language": "python",
   "name": "python3"
  },
  "language_info": {
   "name": "python",
   "version": "3.12.4"
  }
 },
 "nbformat": 4,
 "nbformat_minor": 2
}
