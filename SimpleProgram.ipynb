{
 "cells": [
  {
   "cell_type": "code",
   "execution_count": null,
   "id": "a4bc119a-bdfd-4e45-90cd-ae4e62c438cd",
   "metadata": {},
   "outputs": [],
   "source": [
    "# Step 1: Take a name input\n",
    "name = input(\"Enter your name: \")\n",
    "\n",
    "# Step 2: Take some other input \n",
    "agePrompt = input(\"Enter your age: \")\n",
    "\n",
    "# Step 3: Do something with this input\n",
    "age = str(agePrompt)\n",
    "\n",
    "# Output message\n",
    "print(f\"Hello, {name}! You're {age} years old\")\n"
   ]
  }
 ],
 "metadata": {
  "kernelspec": {
   "display_name": "Python 3 (ipykernel)",
   "language": "python",
   "name": "python3"
  },
  "language_info": {
   "codemirror_mode": {
    "name": "ipython",
    "version": 3
   },
   "file_extension": ".py",
   "mimetype": "text/x-python",
   "name": "python",
   "nbconvert_exporter": "python",
   "pygments_lexer": "ipython3",
   "version": "3.12.4"
  }
 },
 "nbformat": 4,
 "nbformat_minor": 5
}
